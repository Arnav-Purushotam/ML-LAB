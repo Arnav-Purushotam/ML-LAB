{
  "nbformat": 4,
  "nbformat_minor": 0,
  "metadata": {
    "colab": {
      "provenance": []
    },
    "kernelspec": {
      "name": "python3",
      "display_name": "Python 3"
    },
    "language_info": {
      "name": "python"
    }
  },
  "cells": [
    {
      "cell_type": "code",
      "execution_count": 1,
      "metadata": {
        "id": "Rc6YPzFPxfrg"
      },
      "outputs": [],
      "source": [
        "import pandas as pd #for manipulating the csv data\n",
        "import numpy as np #for mathematical calculation"
      ]
    },
    {
      "cell_type": "code",
      "source": [
        "train_data_m = pd.read_csv(\"input/trainplaytennis/PlayTennis.csv\")\n",
        "test_data_m = pd.read_csv(\"input/testplaytennis/PlayTennis.csv\")"
      ],
      "metadata": {
        "id": "mtGcGuiQz0b7"
      },
      "execution_count": 4,
      "outputs": []
    },
    {
      "cell_type": "code",
      "source": [
        "train_data_m.head()"
      ],
      "metadata": {
        "colab": {
          "base_uri": "https://localhost:8080/",
          "height": 206
        },
        "id": "-4nRn9Zzz0gi",
        "outputId": "79242bd3-34f7-4926-f398-ff6571e8a554"
      },
      "execution_count": 5,
      "outputs": [
        {
          "output_type": "execute_result",
          "data": {
            "text/plain": [
              "    Outlook Temperature Humidity    Wind Play Tennis\n",
              "0     Sunny         Hot     High    Weak          No\n",
              "1     Sunny         Hot     High  Strong          No\n",
              "2  Overcast         Hot     High    Weak         Yes\n",
              "3      Rain        Mild     High    Weak         Yes\n",
              "4      Rain        Cool   Normal    Weak         Yes"
            ],
            "text/html": [
              "\n",
              "  <div id=\"df-22efc9e7-aef0-4adc-8402-db60358aa08f\">\n",
              "    <div class=\"colab-df-container\">\n",
              "      <div>\n",
              "<style scoped>\n",
              "    .dataframe tbody tr th:only-of-type {\n",
              "        vertical-align: middle;\n",
              "    }\n",
              "\n",
              "    .dataframe tbody tr th {\n",
              "        vertical-align: top;\n",
              "    }\n",
              "\n",
              "    .dataframe thead th {\n",
              "        text-align: right;\n",
              "    }\n",
              "</style>\n",
              "<table border=\"1\" class=\"dataframe\">\n",
              "  <thead>\n",
              "    <tr style=\"text-align: right;\">\n",
              "      <th></th>\n",
              "      <th>Outlook</th>\n",
              "      <th>Temperature</th>\n",
              "      <th>Humidity</th>\n",
              "      <th>Wind</th>\n",
              "      <th>Play Tennis</th>\n",
              "    </tr>\n",
              "  </thead>\n",
              "  <tbody>\n",
              "    <tr>\n",
              "      <th>0</th>\n",
              "      <td>Sunny</td>\n",
              "      <td>Hot</td>\n",
              "      <td>High</td>\n",
              "      <td>Weak</td>\n",
              "      <td>No</td>\n",
              "    </tr>\n",
              "    <tr>\n",
              "      <th>1</th>\n",
              "      <td>Sunny</td>\n",
              "      <td>Hot</td>\n",
              "      <td>High</td>\n",
              "      <td>Strong</td>\n",
              "      <td>No</td>\n",
              "    </tr>\n",
              "    <tr>\n",
              "      <th>2</th>\n",
              "      <td>Overcast</td>\n",
              "      <td>Hot</td>\n",
              "      <td>High</td>\n",
              "      <td>Weak</td>\n",
              "      <td>Yes</td>\n",
              "    </tr>\n",
              "    <tr>\n",
              "      <th>3</th>\n",
              "      <td>Rain</td>\n",
              "      <td>Mild</td>\n",
              "      <td>High</td>\n",
              "      <td>Weak</td>\n",
              "      <td>Yes</td>\n",
              "    </tr>\n",
              "    <tr>\n",
              "      <th>4</th>\n",
              "      <td>Rain</td>\n",
              "      <td>Cool</td>\n",
              "      <td>Normal</td>\n",
              "      <td>Weak</td>\n",
              "      <td>Yes</td>\n",
              "    </tr>\n",
              "  </tbody>\n",
              "</table>\n",
              "</div>\n",
              "      <button class=\"colab-df-convert\" onclick=\"convertToInteractive('df-22efc9e7-aef0-4adc-8402-db60358aa08f')\"\n",
              "              title=\"Convert this dataframe to an interactive table.\"\n",
              "              style=\"display:none;\">\n",
              "        \n",
              "  <svg xmlns=\"http://www.w3.org/2000/svg\" height=\"24px\"viewBox=\"0 0 24 24\"\n",
              "       width=\"24px\">\n",
              "    <path d=\"M0 0h24v24H0V0z\" fill=\"none\"/>\n",
              "    <path d=\"M18.56 5.44l.94 2.06.94-2.06 2.06-.94-2.06-.94-.94-2.06-.94 2.06-2.06.94zm-11 1L8.5 8.5l.94-2.06 2.06-.94-2.06-.94L8.5 2.5l-.94 2.06-2.06.94zm10 10l.94 2.06.94-2.06 2.06-.94-2.06-.94-.94-2.06-.94 2.06-2.06.94z\"/><path d=\"M17.41 7.96l-1.37-1.37c-.4-.4-.92-.59-1.43-.59-.52 0-1.04.2-1.43.59L10.3 9.45l-7.72 7.72c-.78.78-.78 2.05 0 2.83L4 21.41c.39.39.9.59 1.41.59.51 0 1.02-.2 1.41-.59l7.78-7.78 2.81-2.81c.8-.78.8-2.07 0-2.86zM5.41 20L4 18.59l7.72-7.72 1.47 1.35L5.41 20z\"/>\n",
              "  </svg>\n",
              "      </button>\n",
              "      \n",
              "  <style>\n",
              "    .colab-df-container {\n",
              "      display:flex;\n",
              "      flex-wrap:wrap;\n",
              "      gap: 12px;\n",
              "    }\n",
              "\n",
              "    .colab-df-convert {\n",
              "      background-color: #E8F0FE;\n",
              "      border: none;\n",
              "      border-radius: 50%;\n",
              "      cursor: pointer;\n",
              "      display: none;\n",
              "      fill: #1967D2;\n",
              "      height: 32px;\n",
              "      padding: 0 0 0 0;\n",
              "      width: 32px;\n",
              "    }\n",
              "\n",
              "    .colab-df-convert:hover {\n",
              "      background-color: #E2EBFA;\n",
              "      box-shadow: 0px 1px 2px rgba(60, 64, 67, 0.3), 0px 1px 3px 1px rgba(60, 64, 67, 0.15);\n",
              "      fill: #174EA6;\n",
              "    }\n",
              "\n",
              "    [theme=dark] .colab-df-convert {\n",
              "      background-color: #3B4455;\n",
              "      fill: #D2E3FC;\n",
              "    }\n",
              "\n",
              "    [theme=dark] .colab-df-convert:hover {\n",
              "      background-color: #434B5C;\n",
              "      box-shadow: 0px 1px 3px 1px rgba(0, 0, 0, 0.15);\n",
              "      filter: drop-shadow(0px 1px 2px rgba(0, 0, 0, 0.3));\n",
              "      fill: #FFFFFF;\n",
              "    }\n",
              "  </style>\n",
              "\n",
              "      <script>\n",
              "        const buttonEl =\n",
              "          document.querySelector('#df-22efc9e7-aef0-4adc-8402-db60358aa08f button.colab-df-convert');\n",
              "        buttonEl.style.display =\n",
              "          google.colab.kernel.accessAllowed ? 'block' : 'none';\n",
              "\n",
              "        async function convertToInteractive(key) {\n",
              "          const element = document.querySelector('#df-22efc9e7-aef0-4adc-8402-db60358aa08f');\n",
              "          const dataTable =\n",
              "            await google.colab.kernel.invokeFunction('convertToInteractive',\n",
              "                                                     [key], {});\n",
              "          if (!dataTable) return;\n",
              "\n",
              "          const docLinkHtml = 'Like what you see? Visit the ' +\n",
              "            '<a target=\"_blank\" href=https://colab.research.google.com/notebooks/data_table.ipynb>data table notebook</a>'\n",
              "            + ' to learn more about interactive tables.';\n",
              "          element.innerHTML = '';\n",
              "          dataTable['output_type'] = 'display_data';\n",
              "          await google.colab.output.renderOutput(dataTable, element);\n",
              "          const docLink = document.createElement('div');\n",
              "          docLink.innerHTML = docLinkHtml;\n",
              "          element.appendChild(docLink);\n",
              "        }\n",
              "      </script>\n",
              "    </div>\n",
              "  </div>\n",
              "  "
            ]
          },
          "metadata": {},
          "execution_count": 5
        }
      ]
    },
    {
      "cell_type": "code",
      "source": [
        "def calc_total_entropy(train_data, label, class_list):\n",
        "    total_row = train_data.shape[0]\n",
        "    total_entr = 0\n",
        "    \n",
        "    for c in class_list:\n",
        "        total_class_count = train_data[train_data[label] == c].shape[0]\n",
        "        total_class_entr = - (total_class_count/total_row)*np.log2(total_class_count/total_row) \n",
        "        total_entr += total_class_entr\n",
        "    \n",
        "    return total_entr"
      ],
      "metadata": {
        "id": "FQ7O0HPpz0iy"
      },
      "execution_count": 6,
      "outputs": []
    },
    {
      "cell_type": "code",
      "source": [
        "def calc_entropy(feature_value_data, label, class_list):\n",
        "    class_count = feature_value_data.shape[0]\n",
        "    entropy = 0\n",
        "    \n",
        "    for c in class_list:\n",
        "        label_class_count = feature_value_data[feature_value_data[label] == c].shape[0]\n",
        "    \n",
        "        entropy_class = 0\n",
        "        if label_class_count != 0:\n",
        "            probability_class = label_class_count/class_count\n",
        "            entropy_class = - probability_class * np.log2(probability_class) \n",
        "        \n",
        "        entropy += entropy_class\n",
        "        \n",
        "    return entropy"
      ],
      "metadata": {
        "id": "VZwYj7TQz0k6"
      },
      "execution_count": 7,
      "outputs": []
    },
    {
      "cell_type": "code",
      "source": [
        "def calc_info_gain(feature_name, train_data, label, class_list):\n",
        "    feature_value_list = train_data[feature_name].unique()\n",
        "    total_row = train_data.shape[0]\n",
        "    feature_info = 0.0\n",
        "    \n",
        "    for feature_value in feature_value_list:\n",
        "        feature_value_data = train_data[train_data[feature_name] == feature_value]\n",
        "        feature_value_count = feature_value_data.shape[0]\n",
        "        feature_value_entropy = calc_entropy(feature_value_data, label, class_list)\n",
        "        feature_value_probability = feature_value_count/total_row\n",
        "        feature_info += feature_value_probability * feature_value_entropy\n",
        "        \n",
        "    return calc_total_entropy(train_data, label, class_list) - feature_info"
      ],
      "metadata": {
        "id": "G0xKXL90z0nC"
      },
      "execution_count": 8,
      "outputs": []
    },
    {
      "cell_type": "code",
      "source": [
        "def find_most_informative_feature(train_data, label, class_list):\n",
        "    feature_list = train_data.columns.drop(label)\n",
        "    max_info_gain = -1\n",
        "    max_info_feature = None\n",
        "    \n",
        "    for feature in feature_list:  \n",
        "        feature_info_gain = calc_info_gain(feature, train_data, label, class_list)\n",
        "        if max_info_gain < feature_info_gain:\n",
        "            max_info_gain = feature_info_gain\n",
        "            max_info_feature = feature\n",
        "            \n",
        "    return max_info_feature"
      ],
      "metadata": {
        "id": "776mDleHz0pK"
      },
      "execution_count": 9,
      "outputs": []
    },
    {
      "cell_type": "code",
      "source": [
        "def generate_sub_tree(feature_name, train_data, label, class_list):\n",
        "    feature_value_count_dict = train_data[feature_name].value_counts(sort=False)\n",
        "    tree = {}\n",
        "    \n",
        "    for feature_value, count in feature_value_count_dict.iteritems():\n",
        "        feature_value_data = train_data[train_data[feature_name] == feature_value]\n",
        "        \n",
        "        assigned_to_node = False\n",
        "        for c in class_list:\n",
        "            class_count = feature_value_data[feature_value_data[label] == c].shape[0]\n",
        "\n",
        "            if class_count == count:\n",
        "                tree[feature_value] = c\n",
        "                train_data = train_data[train_data[feature_name] != feature_value]\n",
        "                assigned_to_node = True\n",
        "        if not assigned_to_node:\n",
        "            tree[feature_value] = \"?\"\n",
        "            \n",
        "    return tree, train_data"
      ],
      "metadata": {
        "id": "cp5bLk24z0rK"
      },
      "execution_count": 10,
      "outputs": []
    },
    {
      "cell_type": "code",
      "source": [
        "def make_tree(root, prev_feature_value, train_data, label, class_list):\n",
        "    if train_data.shape[0] != 0:\n",
        "        max_info_feature = find_most_informative_feature(train_data, label, class_list)\n",
        "        tree, train_data = generate_sub_tree(max_info_feature, train_data, label, class_list)\n",
        "        next_root = None\n",
        "        \n",
        "        if prev_feature_value != None:\n",
        "            root[prev_feature_value] = dict()\n",
        "            root[prev_feature_value][max_info_feature] = tree\n",
        "            next_root = root[prev_feature_value][max_info_feature]\n",
        "        else:\n",
        "            root[max_info_feature] = tree\n",
        "            next_root = root[max_info_feature]\n",
        "        \n",
        "        for node, branch in list(next_root.items()):\n",
        "            if branch == \"?\":\n",
        "                feature_value_data = train_data[train_data[max_info_feature] == node]\n",
        "                make_tree(next_root, node, feature_value_data, label, class_list)"
      ],
      "metadata": {
        "id": "ltH14JZzz0tK"
      },
      "execution_count": 11,
      "outputs": []
    },
    {
      "cell_type": "code",
      "source": [
        "def id3(train_data_m, label):\n",
        "    train_data = train_data_m.copy()\n",
        "    tree = {}\n",
        "    class_list = train_data[label].unique()\n",
        "    make_tree(tree, None, train_data, label, class_list)\n",
        "    \n",
        "    return tree"
      ],
      "metadata": {
        "id": "LKxN-BqNz0vK"
      },
      "execution_count": 12,
      "outputs": []
    },
    {
      "cell_type": "code",
      "source": [
        "def predict(tree, instance):\n",
        "    if not isinstance(tree, dict):\n",
        "        return tree\n",
        "    else:\n",
        "        root_node = next(iter(tree))\n",
        "        feature_value = instance[root_node]\n",
        "        if feature_value in tree[root_node]:\n",
        "            return predict(tree[root_node][feature_value], instance)\n",
        "        else:\n",
        "            return None"
      ],
      "metadata": {
        "id": "_WD0pkBsz0xa"
      },
      "execution_count": 13,
      "outputs": []
    },
    {
      "cell_type": "code",
      "source": [
        "def evaluate(tree, test_data_m, label):\n",
        "    correct_preditct = 0\n",
        "    wrong_preditct = 0\n",
        "    for index, row in test_data_m.iterrows():\n",
        "        result = predict(tree, test_data_m.iloc[index])\n",
        "        if result == test_data_m[label].iloc[index]:\n",
        "            correct_preditct += 1\n",
        "        else:\n",
        "            wrong_preditct += 1\n",
        "    accuracy = correct_preditct / (correct_preditct + wrong_preditct)\n",
        "    return accuracy"
      ],
      "metadata": {
        "id": "TQPTA4y1z0zj"
      },
      "execution_count": 14,
      "outputs": []
    },
    {
      "cell_type": "code",
      "source": [
        "tree = id3(train_data_m, 'Play Tennis')\n",
        "tree"
      ],
      "metadata": {
        "colab": {
          "base_uri": "https://localhost:8080/"
        },
        "id": "TVFx5E6Hz016",
        "outputId": "2ab15bdd-d5f0-46ac-a3b8-281662b3f7d6"
      },
      "execution_count": 15,
      "outputs": [
        {
          "output_type": "stream",
          "name": "stderr",
          "text": [
            "<ipython-input-10-87bd3102be49>:5: FutureWarning: iteritems is deprecated and will be removed in a future version. Use .items instead.\n",
            "  for feature_value, count in feature_value_count_dict.iteritems():\n",
            "<ipython-input-10-87bd3102be49>:5: FutureWarning: iteritems is deprecated and will be removed in a future version. Use .items instead.\n",
            "  for feature_value, count in feature_value_count_dict.iteritems():\n",
            "<ipython-input-10-87bd3102be49>:5: FutureWarning: iteritems is deprecated and will be removed in a future version. Use .items instead.\n",
            "  for feature_value, count in feature_value_count_dict.iteritems():\n"
          ]
        },
        {
          "output_type": "execute_result",
          "data": {
            "text/plain": [
              "{'Outlook': {'Sunny': {'Humidity': {'High': 'No', 'Normal': 'Yes'}},\n",
              "  'Overcast': 'Yes',\n",
              "  'Rain': {'Wind': {'Weak': 'Yes', 'Strong': 'No'}}}}"
            ]
          },
          "metadata": {},
          "execution_count": 15
        }
      ]
    },
    {
      "cell_type": "code",
      "source": [
        "accuracy = evaluate(tree, test_data_m, 'Play Tennis')\n",
        "print(\"accuracy:\", accuracy)"
      ],
      "metadata": {
        "colab": {
          "base_uri": "https://localhost:8080/"
        },
        "id": "40PMgRQdz04C",
        "outputId": "edf54e9d-a281-4ad3-fd98-e1d8d9e27f31"
      },
      "execution_count": 16,
      "outputs": [
        {
          "output_type": "stream",
          "name": "stdout",
          "text": [
            "accuracy: 1.0\n"
          ]
        }
      ]
    },
    {
      "cell_type": "code",
      "source": [],
      "metadata": {
        "id": "JkNHjn3wz06a"
      },
      "execution_count": null,
      "outputs": []
    },
    {
      "cell_type": "code",
      "source": [],
      "metadata": {
        "id": "rXnioAkTz08q"
      },
      "execution_count": null,
      "outputs": []
    },
    {
      "cell_type": "code",
      "source": [],
      "metadata": {
        "id": "d3THMvPIz0-6"
      },
      "execution_count": null,
      "outputs": []
    },
    {
      "cell_type": "code",
      "source": [],
      "metadata": {
        "id": "6j4wvIFtz1BK"
      },
      "execution_count": null,
      "outputs": []
    },
    {
      "cell_type": "code",
      "source": [],
      "metadata": {
        "id": "9_Q_qcbSz1Db"
      },
      "execution_count": null,
      "outputs": []
    },
    {
      "cell_type": "code",
      "source": [],
      "metadata": {
        "id": "Udmt7ZfHz1Fq"
      },
      "execution_count": null,
      "outputs": []
    },
    {
      "cell_type": "code",
      "source": [],
      "metadata": {
        "id": "jxuKlOp0z1H6"
      },
      "execution_count": null,
      "outputs": []
    },
    {
      "cell_type": "code",
      "source": [],
      "metadata": {
        "id": "qvaXbj3yz1KN"
      },
      "execution_count": null,
      "outputs": []
    },
    {
      "cell_type": "code",
      "source": [],
      "metadata": {
        "id": "WAub-Uk4z1MS"
      },
      "execution_count": null,
      "outputs": []
    },
    {
      "cell_type": "code",
      "source": [],
      "metadata": {
        "id": "zFdGz1RFz1OK"
      },
      "execution_count": null,
      "outputs": []
    },
    {
      "cell_type": "code",
      "source": [],
      "metadata": {
        "id": "Lfpyn0GEz1Qy"
      },
      "execution_count": null,
      "outputs": []
    }
  ]
}